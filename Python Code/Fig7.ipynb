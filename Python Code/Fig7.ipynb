{
 "cells": [
  {
   "cell_type": "code",
   "execution_count": 1,
   "id": "17db3a75-f9d4-4799-8fc0-e4794681f7cc",
   "metadata": {},
   "outputs": [],
   "source": [
    "import numpy as np\n",
    "import pandas as pd\n",
    "import seaborn as sns\n",
    "import matplotlib.pyplot as plt\n",
    "\n",
    "from IPython.core.interactiveshell import InteractiveShell\n",
    "InteractiveShell.ast_node_interactivity = \"all\" # enable multiple output in one cell"
   ]
  },
  {
   "cell_type": "code",
   "execution_count": 2,
   "id": "342c1f4d-b702-4f8d-b741-9da162a8c76f",
   "metadata": {},
   "outputs": [],
   "source": [
    "fig7a_df = pd.read_csv(\"D:/Projects/BW Mathematics/fig7a.csv\")\n",
    "fig7b1_df = pd.read_csv(\"D:/Projects/BW Mathematics/fig7b1.csv\")\n",
    "fig7b2_df = pd.read_csv(\"D:/Projects/BW Mathematics/fig7b2.csv\")\n",
    "fig7b3_df = pd.read_csv(\"D:/Projects/BW Mathematics/fig7b3.csv\")\n",
    "\n",
    "a_num5 = fig7a_df.loc[(fig7a_df['Num']==5),'AbsoluteDist']\n",
    "a_num10 = fig7a_df.loc[(fig7a_df['Num']==10),'AbsoluteDist']\n",
    "a_num20 = fig7a_df.loc[(fig7a_df['Num']==20),'AbsoluteDist']\n",
    "a_num50 = fig7a_df.loc[(fig7a_df['Num']==50),'AbsoluteDist']\n",
    "a_num100 = fig7a_df.loc[(fig7a_df['Num']==100),'AbsoluteDist']\n",
    "\n",
    "b1_num5 = fig7b1_df.loc[(fig7b1_df['Num']==5),'AbsoluteDist']\n",
    "b1_num10 = fig7b1_df.loc[(fig7b1_df['Num']==10),'AbsoluteDist']\n",
    "b1_num20 = fig7b1_df.loc[(fig7b1_df['Num']==20),'AbsoluteDist']\n",
    "b1_num50 = fig7b1_df.loc[(fig7b1_df['Num']==50),'AbsoluteDist']\n",
    "b1_num100 = fig7b1_df.loc[(fig7b1_df['Num']==100),'AbsoluteDist']\n",
    "\n",
    "b2_num5 = fig7b2_df.loc[(fig7b2_df['Num']==5),'AbsoluteDist']\n",
    "b2_num10 = fig7b2_df.loc[(fig7b2_df['Num']==10),'AbsoluteDist']\n",
    "b2_num20 = fig7b2_df.loc[(fig7b2_df['Num']==20),'AbsoluteDist']\n",
    "b2_num50 = fig7b2_df.loc[(fig7b2_df['Num']==50),'AbsoluteDist']\n",
    "b2_num100 = fig7b2_df.loc[(fig7b2_df['Num']==100),'AbsoluteDist']\n",
    "\n",
    "b3_num5 = fig7b3_df.loc[(fig7b3_df['Num']==5),'AbsoluteDist']\n",
    "b3_num10 = fig7b3_df.loc[(fig7b3_df['Num']==10),'AbsoluteDist']\n",
    "b3_num20 = fig7b3_df.loc[(fig7b3_df['Num']==20),'AbsoluteDist']\n",
    "b3_num50 = fig7b3_df.loc[(fig7b3_df['Num']==50),'AbsoluteDist']\n",
    "b3_num100 = fig7b3_df.loc[(fig7b3_df['Num']==100),'AbsoluteDist']"
   ]
  },
  {
   "cell_type": "code",
   "execution_count": 3,
   "id": "24a49b4a-9c9a-4dc3-9294-fe898324c1ff",
   "metadata": {},
   "outputs": [
    {
     "data": {
      "text/plain": [
       "<Axes: xlabel='AbsoluteDist', ylabel='Density'>"
      ]
     },
     "execution_count": 3,
     "metadata": {},
     "output_type": "execute_result"
    },
    {
     "data": {
      "text/plain": [
       "<Axes: xlabel='AbsoluteDist', ylabel='Density'>"
      ]
     },
     "execution_count": 3,
     "metadata": {},
     "output_type": "execute_result"
    },
    {
     "data": {
      "text/plain": [
       "<Axes: xlabel='AbsoluteDist', ylabel='Density'>"
      ]
     },
     "execution_count": 3,
     "metadata": {},
     "output_type": "execute_result"
    },
    {
     "data": {
      "text/plain": [
       "<Axes: xlabel='AbsoluteDist', ylabel='Density'>"
      ]
     },
     "execution_count": 3,
     "metadata": {},
     "output_type": "execute_result"
    },
    {
     "data": {
      "text/plain": [
       "<Axes: xlabel='AbsoluteDist', ylabel='Density'>"
      ]
     },
     "execution_count": 3,
     "metadata": {},
     "output_type": "execute_result"
    },
    {
     "data": {
      "text/plain": [
       "Text(0.0, 1.0, '(A)')"
      ]
     },
     "execution_count": 3,
     "metadata": {},
     "output_type": "execute_result"
    },
    {
     "data": {
      "text/plain": [
       "Text(0.5, 0, '$d_{F}(M^{BW},\\\\tilde{M}^{BW})$')"
      ]
     },
     "execution_count": 3,
     "metadata": {},
     "output_type": "execute_result"
    },
    {
     "data": {
      "text/plain": [
       "Text(0, 0.5, 'Density')"
      ]
     },
     "execution_count": 3,
     "metadata": {},
     "output_type": "execute_result"
    },
    {
     "data": {
      "text/plain": [
       "(0.007, 0.08)"
      ]
     },
     "execution_count": 3,
     "metadata": {},
     "output_type": "execute_result"
    },
    {
     "data": {
      "text/plain": [
       "<Axes: xlabel='AbsoluteDist', ylabel='Density'>"
      ]
     },
     "execution_count": 3,
     "metadata": {},
     "output_type": "execute_result"
    },
    {
     "data": {
      "text/plain": [
       "<Axes: xlabel='AbsoluteDist', ylabel='Density'>"
      ]
     },
     "execution_count": 3,
     "metadata": {},
     "output_type": "execute_result"
    },
    {
     "data": {
      "text/plain": [
       "<Axes: xlabel='AbsoluteDist', ylabel='Density'>"
      ]
     },
     "execution_count": 3,
     "metadata": {},
     "output_type": "execute_result"
    },
    {
     "data": {
      "text/plain": [
       "<Axes: xlabel='AbsoluteDist', ylabel='Density'>"
      ]
     },
     "execution_count": 3,
     "metadata": {},
     "output_type": "execute_result"
    },
    {
     "data": {
      "text/plain": [
       "<Axes: xlabel='AbsoluteDist', ylabel='Density'>"
      ]
     },
     "execution_count": 3,
     "metadata": {},
     "output_type": "execute_result"
    },
    {
     "data": {
      "text/plain": [
       "Text(0.0, 1.0, '(B)')"
      ]
     },
     "execution_count": 3,
     "metadata": {},
     "output_type": "execute_result"
    },
    {
     "data": {
      "text/plain": [
       "Text(0.5, 0, '')"
      ]
     },
     "execution_count": 3,
     "metadata": {},
     "output_type": "execute_result"
    },
    {
     "data": {
      "text/plain": [
       "Text(0, 0.5, 'Density')"
      ]
     },
     "execution_count": 3,
     "metadata": {},
     "output_type": "execute_result"
    },
    {
     "data": {
      "text/plain": [
       "Text(0.02, 0.97, 'Dim = 5')"
      ]
     },
     "execution_count": 3,
     "metadata": {},
     "output_type": "execute_result"
    },
    {
     "data": {
      "text/plain": [
       "<Axes: xlabel='AbsoluteDist', ylabel='Density'>"
      ]
     },
     "execution_count": 3,
     "metadata": {},
     "output_type": "execute_result"
    },
    {
     "data": {
      "text/plain": [
       "<Axes: xlabel='AbsoluteDist', ylabel='Density'>"
      ]
     },
     "execution_count": 3,
     "metadata": {},
     "output_type": "execute_result"
    },
    {
     "data": {
      "text/plain": [
       "<Axes: xlabel='AbsoluteDist', ylabel='Density'>"
      ]
     },
     "execution_count": 3,
     "metadata": {},
     "output_type": "execute_result"
    },
    {
     "data": {
      "text/plain": [
       "<Axes: xlabel='AbsoluteDist', ylabel='Density'>"
      ]
     },
     "execution_count": 3,
     "metadata": {},
     "output_type": "execute_result"
    },
    {
     "data": {
      "text/plain": [
       "<Axes: xlabel='AbsoluteDist', ylabel='Density'>"
      ]
     },
     "execution_count": 3,
     "metadata": {},
     "output_type": "execute_result"
    },
    {
     "data": {
      "text/plain": [
       "Text(0.5, 0, '$d_{F}(M^{AI},\\\\tilde{M}^{AI})-d_{F}(M^{BW},\\\\tilde{M}^{BW})$')"
      ]
     },
     "execution_count": 3,
     "metadata": {},
     "output_type": "execute_result"
    },
    {
     "data": {
      "text/plain": [
       "Text(0, 0.5, '')"
      ]
     },
     "execution_count": 3,
     "metadata": {},
     "output_type": "execute_result"
    },
    {
     "data": {
      "text/plain": [
       "Text(0.02, 0.97, 'Dim = 20')"
      ]
     },
     "execution_count": 3,
     "metadata": {},
     "output_type": "execute_result"
    },
    {
     "data": {
      "text/plain": [
       "<Axes: xlabel='AbsoluteDist', ylabel='Density'>"
      ]
     },
     "execution_count": 3,
     "metadata": {},
     "output_type": "execute_result"
    },
    {
     "data": {
      "text/plain": [
       "<Axes: xlabel='AbsoluteDist', ylabel='Density'>"
      ]
     },
     "execution_count": 3,
     "metadata": {},
     "output_type": "execute_result"
    },
    {
     "data": {
      "text/plain": [
       "<Axes: xlabel='AbsoluteDist', ylabel='Density'>"
      ]
     },
     "execution_count": 3,
     "metadata": {},
     "output_type": "execute_result"
    },
    {
     "data": {
      "text/plain": [
       "<Axes: xlabel='AbsoluteDist', ylabel='Density'>"
      ]
     },
     "execution_count": 3,
     "metadata": {},
     "output_type": "execute_result"
    },
    {
     "data": {
      "text/plain": [
       "<Axes: xlabel='AbsoluteDist', ylabel='Density'>"
      ]
     },
     "execution_count": 3,
     "metadata": {},
     "output_type": "execute_result"
    },
    {
     "data": {
      "text/plain": [
       "Text(0.5, 0, '')"
      ]
     },
     "execution_count": 3,
     "metadata": {},
     "output_type": "execute_result"
    },
    {
     "data": {
      "text/plain": [
       "Text(0, 0.5, '')"
      ]
     },
     "execution_count": 3,
     "metadata": {},
     "output_type": "execute_result"
    },
    {
     "data": {
      "text/plain": [
       "[<matplotlib.axis.XTick at 0x25d060ab4d0>,\n",
       " <matplotlib.axis.XTick at 0x25d0611d950>,\n",
       " <matplotlib.axis.XTick at 0x25d0611e0d0>]"
      ]
     },
     "execution_count": 3,
     "metadata": {},
     "output_type": "execute_result"
    },
    {
     "data": {
      "text/plain": [
       "[<matplotlib.axis.YTick at 0x25d060abc50>,\n",
       " <matplotlib.axis.YTick at 0x25d0611efd0>,\n",
       " <matplotlib.axis.YTick at 0x25d0611f750>]"
      ]
     },
     "execution_count": 3,
     "metadata": {},
     "output_type": "execute_result"
    },
    {
     "data": {
      "text/plain": [
       "Text(0.02, 0.97, 'Dim = 50')"
      ]
     },
     "execution_count": 3,
     "metadata": {},
     "output_type": "execute_result"
    },
    {
     "data": {
      "text/plain": [
       "<matplotlib.legend.Legend at 0x25d7f96cc20>"
      ]
     },
     "execution_count": 3,
     "metadata": {},
     "output_type": "execute_result"
    },
    {
     "data": {
      "image/png": "[encoded data removed]",
      "text/plain": [
       "<Figure size 900x200 with 4 Axes>"
      ]
     },
     "metadata": {},
     "output_type": "display_data"
    }
   ],
   "source": [
    "fig = plt.figure(figsize=(9,2))\n",
    "gs_all = fig.add_gridspec(nrows=1, ncols=2, width_ratios=[1,3], wspace=0.24, hspace=0.3)\n",
    "gs_bc = gs_all[:, 1].subgridspec(nrows=1, ncols=3, wspace=0.32, hspace=0.3)\n",
    "\n",
    "# A\n",
    "ax_a = fig.add_subplot(gs_all[0])\n",
    "sns.kdeplot(a_num5, fill=True, label='5', ax=ax_a, zorder=2)\n",
    "sns.kdeplot(a_num10, fill=True, label='10', ax=ax_a, zorder=2)\n",
    "sns.kdeplot(a_num20, fill=True, label='20', ax=ax_a, zorder=2)\n",
    "sns.kdeplot(a_num50, fill=True, label='50', ax=ax_a, zorder=2)\n",
    "sns.kdeplot(a_num100, fill=True, label='100', ax=ax_a, zorder=2)\n",
    "ax_a.set_title('(A)', loc='left', fontsize=14)\n",
    "ax_a.set_xlabel(r\"$d_{F}(M^{BW},\\tilde{M}^{BW})$\", fontsize=14)\n",
    "ax_a.set_ylabel('Density', fontsize=14)\n",
    "ax_a.set_xlim(0.007,0.08)\n",
    "\n",
    "# B1\n",
    "ax_b1 = fig.add_subplot(gs_bc[0])\n",
    "sns.kdeplot(b1_num5, fill=True, label='5', ax=ax_b1, zorder=2)\n",
    "sns.kdeplot(b1_num10, fill=True, label='10', ax=ax_b1, zorder=2)\n",
    "sns.kdeplot(b1_num20, fill=True, label='20', ax=ax_b1, zorder=2)\n",
    "sns.kdeplot(b1_num50, fill=True, label='50', ax=ax_b1, zorder=2)\n",
    "sns.kdeplot(b1_num100, fill=True, label='100', ax=ax_b1, zorder=2)\n",
    "ax_b1.set_title('(B)', loc='left', fontsize=14)\n",
    "ax_b1.set_xlabel('')\n",
    "ax_b1.set_ylabel('Density', fontsize=14)\n",
    "ax_b1.text(0.02, 0.97, \"Dim = 5\", fontsize=12, transform=ax_b1.transAxes, horizontalalignment='left', verticalalignment='top')\n",
    "\n",
    "# B2\n",
    "ax_b2 = fig.add_subplot(gs_bc[1])\n",
    "sns.kdeplot(b2_num5, fill=True, label='5', ax=ax_b2, zorder=2)\n",
    "sns.kdeplot(b2_num10, fill=True, label='10', ax=ax_b2, zorder=2)\n",
    "sns.kdeplot(b2_num20, fill=True, label='20', ax=ax_b2, zorder=2)\n",
    "sns.kdeplot(b2_num50, fill=True, label='50', ax=ax_b2, zorder=2)\n",
    "sns.kdeplot(b2_num100, fill=True, label='100', ax=ax_b2, zorder=2)\n",
    "ax_b2.set_xlabel(r\"$d_{F}(M^{AI},\\tilde{M}^{AI})-d_{F}(M^{BW},\\tilde{M}^{BW})$\", fontsize=14)\n",
    "ax_b2.set_ylabel('')\n",
    "ax_b2.text(0.02, 0.97, \"Dim = 20\", fontsize=12, transform=ax_b2.transAxes, horizontalalignment='left', verticalalignment='top')\n",
    "\n",
    "# B3\n",
    "ax_b3 = fig.add_subplot(gs_bc[2])\n",
    "sns.kdeplot(b3_num5, fill=True, label='5', ax=ax_b3, zorder=2)\n",
    "sns.kdeplot(b3_num10, fill=True, label='10', ax=ax_b3, zorder=2)\n",
    "sns.kdeplot(b3_num20, fill=True, label='20', ax=ax_b3, zorder=2)\n",
    "sns.kdeplot(b3_num50, fill=True, label='50', ax=ax_b3, zorder=2)\n",
    "sns.kdeplot(b3_num100, fill=True, label='100', ax=ax_b3, zorder=2)\n",
    "ax_b3.set_xlabel('')\n",
    "ax_b3.set_ylabel('')\n",
    "ax_b3.set_xticks([0.02,0.04,0.06])\n",
    "ax_b3.set_yticks([0,100,200])\n",
    "ax_b3.text(0.02, 0.97, \"Dim = 50\", fontsize=12, transform=ax_b3.transAxes, horizontalalignment='left', verticalalignment='top')\n",
    "\n",
    "handles, labels = ax_a.get_legend_handles_labels()\n",
    "ax_a.legend(handles, labels, \n",
    "            loc='upper center', \n",
    "            bbox_to_anchor=(2, -0.35), \n",
    "            title='Number of Matrices', \n",
    "            fontsize=11, \n",
    "            title_fontsize=14, \n",
    "            ncol=len(labels), \n",
    "            frameon=False)\n",
    "\n",
    "for ax in fig.get_axes():\n",
    "    # background\n",
    "    ax.set_facecolor('#F8FAFC')\n",
    "    fig.patch.set_facecolor('white') # A light gray\n",
    "    # grid\n",
    "    ax.grid(True, which='major', axis='both', linestyle='-', linewidth=0.7, color='lightgray', alpha=0.8, zorder=0)\n",
    "    ax.grid(True, which='minor', axis='both', linestyle=':', linewidth=0.4, color='lightgray', alpha=0.5, zorder=0)\n",
    "    ax.minorticks_on() # Ensure minor ticks are on if you want minor gridlines\n",
    "    # borders\n",
    "    ax.spines['top'].set_visible(True)\n",
    "    ax.spines['right'].set_visible(True)\n",
    "    ax.spines['left'].set_visible(True)\n",
    "    ax.spines['bottom'].set_visible(True)\n",
    "    ax.spines['top'].set_color('black')\n",
    "    ax.spines['right'].set_color('black')\n",
    "    ax.spines['left'].set_color('black')\n",
    "    ax.spines['bottom'].set_color('black')\n",
    "    ax.spines['top'].set_linewidth(0.8)\n",
    "    ax.spines['right'].set_linewidth(0.8)\n",
    "    ax.spines['left'].set_linewidth(0.8)\n",
    "    ax.spines['bottom'].set_linewidth(0.8)\n",
    "    # ticks\n",
    "    ax.tick_params(axis='both', which='major', length=3, color='black')\n",
    "    ax.tick_params(axis='both', which='minor', length=0, color='black')\n",
    "    # Keep tick label font size\n",
    "    ax.tick_params(axis='x', labelsize=11)\n",
    "    ax.tick_params(axis='y', labelsize=11)\n",
    "\n",
    "plt.savefig(\"D:/Projects/BW Mathematics/Figure 7 New.jpg\", dpi=300, bbox_inches='tight')\n",
    "plt.show()"
   ]
  },
  {
   "cell_type": "code",
   "execution_count": null,
   "id": "67269f23-2652-42da-8a70-4872d4cdf11e",
   "metadata": {},
   "outputs": [],
   "source": []
  }
 ],
 "metadata": {
  "kernelspec": {
   "display_name": "Python 3 (ipykernel)",
   "language": "python",
   "name": "python3"
  },
  "language_info": {
   "codemirror_mode": {
    "name": "ipython",
    "version": 3
   },
   "file_extension": ".py",
   "mimetype": "text/x-python",
   "name": "python",
   "nbconvert_exporter": "python",
   "pygments_lexer": "ipython3",
   "version": "3.13.1"
  }
 },
 "nbformat": 4,
 "nbformat_minor": 5
}
