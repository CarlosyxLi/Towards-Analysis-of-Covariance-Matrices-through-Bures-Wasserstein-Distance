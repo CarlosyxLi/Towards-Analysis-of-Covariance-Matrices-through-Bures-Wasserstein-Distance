{
 "cells": [
  {
   "cell_type": "code",
   "execution_count": 1,
   "id": "b14871a6-fc73-4a1e-becb-4d2b7f048abd",
   "metadata": {},
   "outputs": [],
   "source": [
    "import numpy as np\n",
    "import pandas as pd\n",
    "import seaborn as sns\n",
    "import matplotlib.pyplot as plt\n",
    "from matplotlib.ticker import FormatStrFormatter \n",
    "\n",
    "from IPython.core.interactiveshell import InteractiveShell\n",
    "InteractiveShell.ast_node_interactivity = \"all\" # enable multiple output in one cell"
   ]
  },
  {
   "cell_type": "code",
   "execution_count": 11,
   "id": "5088e773-d69a-425e-99bc-636508ea4c17",
   "metadata": {},
   "outputs": [],
   "source": [
    "fig4a_out_df = pd.read_csv(\"D:/Projects/BW Mathematics/fig4a_out.csv\")\n",
    "fig4b_out_df = pd.read_csv(\"D:/Projects/BW Mathematics/fig4b_out.csv\")\n",
    "\n",
    "a5 = fig4a_out_df.loc[fig4a_out_df['dim']==5,'rc']\n",
    "a10 = fig4a_out_df.loc[fig4a_out_df['dim']==10,'rc']\n",
    "a20 = fig4a_out_df.loc[fig4a_out_df['dim']==20,'rc']\n",
    "a30 = fig4a_out_df.loc[fig4a_out_df['dim']==30,'rc']\n",
    "a50 = fig4a_out_df.loc[fig4a_out_df['dim']==50,'rc']\n",
    "a100 = fig4a_out_df.loc[fig4a_out_df['dim']==100,'rc']\n",
    "\n",
    "b10 = fig4b_out_df.loc[fig4b_out_df['pct']==10,'rc']\n",
    "b20 = fig4b_out_df.loc[fig4b_out_df['pct']==20,'rc']\n",
    "b40 = fig4b_out_df.loc[fig4b_out_df['pct']==40,'rc']\n",
    "b60 = fig4b_out_df.loc[fig4b_out_df['pct']==60,'rc']\n",
    "b80 = fig4b_out_df.loc[fig4b_out_df['pct']==80,'rc']"
   ]
  },
  {
   "cell_type": "code",
   "execution_count": 125,
   "id": "0c6cce9f-4810-4769-bf70-59281ed14f01",
   "metadata": {},
   "outputs": [],
   "source": [
    "fig4a_in_df = pd.read_csv(\"D:/Projects/BW Mathematics/fig4a_in.csv\")\n",
    "fig4b_in_df = pd.read_csv(\"D:/Projects/BW Mathematics/fig4b_in.csv\")\n",
    "\n",
    "a_in_x = fig4a_in_df['dim']\n",
    "a_in_y = fig4a_in_df['med_rc']\n",
    "\n",
    "b_in_x = fig4b_in_df['pct']\n",
    "b_in_y = fig4b_in_df['med_rc']"
   ]
  },
  {
   "cell_type": "code",
   "execution_count": 162,
   "id": "e11479a5-fd37-477d-955f-c61cc71ac256",
   "metadata": {},
   "outputs": [
    {
     "data": {
      "text/plain": [
       "<Axes: xlabel='rc', ylabel='Density'>"
      ]
     },
     "execution_count": 162,
     "metadata": {},
     "output_type": "execute_result"
    },
    {
     "data": {
      "text/plain": [
       "<Axes: xlabel='rc', ylabel='Density'>"
      ]
     },
     "execution_count": 162,
     "metadata": {},
     "output_type": "execute_result"
    },
    {
     "data": {
      "text/plain": [
       "<Axes: xlabel='rc', ylabel='Density'>"
      ]
     },
     "execution_count": 162,
     "metadata": {},
     "output_type": "execute_result"
    },
    {
     "data": {
      "text/plain": [
       "<Axes: xlabel='rc', ylabel='Density'>"
      ]
     },
     "execution_count": 162,
     "metadata": {},
     "output_type": "execute_result"
    },
    {
     "data": {
      "text/plain": [
       "<Axes: xlabel='rc', ylabel='Density'>"
      ]
     },
     "execution_count": 162,
     "metadata": {},
     "output_type": "execute_result"
    },
    {
     "data": {
      "text/plain": [
       "<Axes: xlabel='rc', ylabel='Density'>"
      ]
     },
     "execution_count": 162,
     "metadata": {},
     "output_type": "execute_result"
    },
    {
     "data": {
      "text/plain": [
       "<matplotlib.lines.Line2D at 0x19d3fcb8190>"
      ]
     },
     "execution_count": 162,
     "metadata": {},
     "output_type": "execute_result"
    },
    {
     "data": {
      "text/plain": [
       "Text(0.0, 1.01, '(A)')"
      ]
     },
     "execution_count": 162,
     "metadata": {},
     "output_type": "execute_result"
    },
    {
     "data": {
      "text/plain": [
       "Text(0.5, 0, '$\\\\delta_{i}$')"
      ]
     },
     "execution_count": 162,
     "metadata": {},
     "output_type": "execute_result"
    },
    {
     "data": {
      "text/plain": [
       "Text(0, 0.5, 'Density')"
      ]
     },
     "execution_count": 162,
     "metadata": {},
     "output_type": "execute_result"
    },
    {
     "data": {
      "text/plain": [
       "(-25.0, 75.0)"
      ]
     },
     "execution_count": 162,
     "metadata": {},
     "output_type": "execute_result"
    },
    {
     "data": {
      "text/plain": [
       "<matplotlib.legend.Legend at 0x19d3fcb82d0>"
      ]
     },
     "execution_count": 162,
     "metadata": {},
     "output_type": "execute_result"
    },
    {
     "data": {
      "text/plain": [
       "[<matplotlib.lines.Line2D at 0x19d3fcda490>]"
      ]
     },
     "execution_count": 162,
     "metadata": {},
     "output_type": "execute_result"
    },
    {
     "data": {
      "text/plain": [
       "<matplotlib.collections.PathCollection at 0x19d3fcda5d0>"
      ]
     },
     "execution_count": 162,
     "metadata": {},
     "output_type": "execute_result"
    },
    {
     "data": {
      "text/plain": [
       "Text(0.5, 0, 'Dimension')"
      ]
     },
     "execution_count": 162,
     "metadata": {},
     "output_type": "execute_result"
    },
    {
     "data": {
      "text/plain": [
       "Text(0, 0.5, 'Median')"
      ]
     },
     "execution_count": 162,
     "metadata": {},
     "output_type": "execute_result"
    },
    {
     "data": {
      "text/plain": [
       "[<matplotlib.axis.XTick at 0x19d3fcd8190>,\n",
       " <matplotlib.axis.XTick at 0x19d3fcda710>,\n",
       " <matplotlib.axis.XTick at 0x19d3fcdae90>]"
      ]
     },
     "execution_count": 162,
     "metadata": {},
     "output_type": "execute_result"
    },
    {
     "data": {
      "text/plain": [
       "[<matplotlib.axis.YTick at 0x19d3fcd8910>,\n",
       " <matplotlib.axis.YTick at 0x19d3fcdb610>,\n",
       " <matplotlib.axis.YTick at 0x19d3fcdbd90>]"
      ]
     },
     "execution_count": 162,
     "metadata": {},
     "output_type": "execute_result"
    },
    {
     "data": {
      "text/plain": [
       "(0.0, 110.0)"
      ]
     },
     "execution_count": 162,
     "metadata": {},
     "output_type": "execute_result"
    },
    {
     "data": {
      "text/plain": [
       "(2.2, 10.4)"
      ]
     },
     "execution_count": 162,
     "metadata": {},
     "output_type": "execute_result"
    },
    {
     "data": {
      "text/plain": [
       "<Axes: xlabel='rc', ylabel='Density'>"
      ]
     },
     "execution_count": 162,
     "metadata": {},
     "output_type": "execute_result"
    },
    {
     "data": {
      "text/plain": [
       "<Axes: xlabel='rc', ylabel='Density'>"
      ]
     },
     "execution_count": 162,
     "metadata": {},
     "output_type": "execute_result"
    },
    {
     "data": {
      "text/plain": [
       "<Axes: xlabel='rc', ylabel='Density'>"
      ]
     },
     "execution_count": 162,
     "metadata": {},
     "output_type": "execute_result"
    },
    {
     "data": {
      "text/plain": [
       "<Axes: xlabel='rc', ylabel='Density'>"
      ]
     },
     "execution_count": 162,
     "metadata": {},
     "output_type": "execute_result"
    },
    {
     "data": {
      "text/plain": [
       "<Axes: xlabel='rc', ylabel='Density'>"
      ]
     },
     "execution_count": 162,
     "metadata": {},
     "output_type": "execute_result"
    },
    {
     "data": {
      "text/plain": [
       "<matplotlib.lines.Line2D at 0x19d3fcfad50>"
      ]
     },
     "execution_count": 162,
     "metadata": {},
     "output_type": "execute_result"
    },
    {
     "data": {
      "text/plain": [
       "Text(0.0, 1.01, '(B)')"
      ]
     },
     "execution_count": 162,
     "metadata": {},
     "output_type": "execute_result"
    },
    {
     "data": {
      "text/plain": [
       "Text(0.5, 0, '$\\\\delta_{i}$')"
      ]
     },
     "execution_count": 162,
     "metadata": {},
     "output_type": "execute_result"
    },
    {
     "data": {
      "text/plain": [
       "Text(0, 0.5, 'Density')"
      ]
     },
     "execution_count": 162,
     "metadata": {},
     "output_type": "execute_result"
    },
    {
     "data": {
      "text/plain": [
       "[<matplotlib.axis.YTick at 0x19d3fc274d0>,\n",
       " <matplotlib.axis.YTick at 0x19d3fd2b390>,\n",
       " <matplotlib.axis.YTick at 0x19d3fd2bb10>,\n",
       " <matplotlib.axis.YTick at 0x19d3fcf82d0>]"
      ]
     },
     "execution_count": 162,
     "metadata": {},
     "output_type": "execute_result"
    },
    {
     "data": {
      "text/plain": [
       "(-13.0, 70.0)"
      ]
     },
     "execution_count": 162,
     "metadata": {},
     "output_type": "execute_result"
    },
    {
     "data": {
      "text/plain": [
       "<matplotlib.legend.Legend at 0x19d3fcfae90>"
      ]
     },
     "execution_count": 162,
     "metadata": {},
     "output_type": "execute_result"
    },
    {
     "data": {
      "text/plain": [
       "[<matplotlib.lines.Line2D at 0x19d3fd5ca50>]"
      ]
     },
     "execution_count": 162,
     "metadata": {},
     "output_type": "execute_result"
    },
    {
     "data": {
      "text/plain": [
       "<matplotlib.collections.PathCollection at 0x19d3fd5cb90>"
      ]
     },
     "execution_count": 162,
     "metadata": {},
     "output_type": "execute_result"
    },
    {
     "data": {
      "text/plain": [
       "Text(0.5, 0, 'Proportion(%)')"
      ]
     },
     "execution_count": 162,
     "metadata": {},
     "output_type": "execute_result"
    },
    {
     "data": {
      "text/plain": [
       "Text(0, 0.5, 'Median')"
      ]
     },
     "execution_count": 162,
     "metadata": {},
     "output_type": "execute_result"
    },
    {
     "data": {
      "text/plain": [
       "[<matplotlib.axis.XTick at 0x19d3fd4e710>,\n",
       " <matplotlib.axis.XTick at 0x19d3fd5ccd0>,\n",
       " <matplotlib.axis.XTick at 0x19d3fd5d450>,\n",
       " <matplotlib.axis.XTick at 0x19d3fd5dbd0>]"
      ]
     },
     "execution_count": 162,
     "metadata": {},
     "output_type": "execute_result"
    },
    {
     "data": {
      "text/plain": [
       "[<matplotlib.axis.YTick at 0x19d3fd4ee90>,\n",
       " <matplotlib.axis.YTick at 0x19d3fd5e350>,\n",
       " <matplotlib.axis.YTick at 0x19d3fd5ead0>,\n",
       " <matplotlib.axis.YTick at 0x19d3fd5f250>]"
      ]
     },
     "execution_count": 162,
     "metadata": {},
     "output_type": "execute_result"
    },
    {
     "data": {
      "text/plain": [
       "(5.0, 85.0)"
      ]
     },
     "execution_count": 162,
     "metadata": {},
     "output_type": "execute_result"
    },
    {
     "data": {
      "text/plain": [
       "(5.8, 9.2)"
      ]
     },
     "execution_count": 162,
     "metadata": {},
     "output_type": "execute_result"
    },
    {
     "data": {
      "image/png": "[encoded data removed]",
      "text/plain": [
       "<Figure size 900x300 with 2 Axes>"
      ]
     },
     "metadata": {},
     "output_type": "display_data"
    }
   ],
   "source": [
    "fig, axes = plt.subplots(1,2,figsize=(9,3))\n",
    "plt.subplots_adjust(wspace=0.25)\n",
    "\n",
    "# A\n",
    "sns.kdeplot(a5, fill=True, label='5', ax=axes[0], zorder=2)\n",
    "sns.kdeplot(a10, fill=True, label='10', ax=axes[0], zorder=2)\n",
    "sns.kdeplot(a20, fill=True, label='20', ax=axes[0], zorder=2)\n",
    "sns.kdeplot(a30, fill=True, label='30', ax=axes[0], zorder=2)\n",
    "sns.kdeplot(a50, fill=True, label='50', ax=axes[0], zorder=2)\n",
    "sns.kdeplot(a100, fill=True, label='100', ax=axes[0], zorder=2)\n",
    "axes[0].axvline(0, alpha=0.6, linestyle='--', color='black')\n",
    "axes[0].set_title('(A)', loc='left', fontsize=14, y=1.01)\n",
    "axes[0].set_xlabel(r\"$\\delta_{i}$\", fontsize=14)\n",
    "axes[0].set_ylabel('Density', fontsize=14)\n",
    "axes[0].set_xlim(-25,75)\n",
    "axes[0].legend(loc='upper center', \n",
    "               bbox_to_anchor=(0.5, -0.2), \n",
    "               title='Dimension', \n",
    "               title_fontsize=14, \n",
    "               fontsize=12, \n",
    "               ncol=3, \n",
    "               frameon=False)\n",
    "\n",
    "# A Inset\n",
    "a_inset = axes[0].inset_axes([0.55, 0.55, 0.43, 0.425])\n",
    "a_inset.plot(a_in_x, a_in_y, color='#444444')\n",
    "a_inset.scatter(a_in_x, a_in_y, s=10, color='#444444')\n",
    "a_inset.set_xlabel(\"Dimension\", fontsize=11)\n",
    "a_inset.set_ylabel(\"Median\", fontsize=11)\n",
    "a_inset.set_xticks([5,50,100])\n",
    "a_inset.set_yticks([3,6,9])\n",
    "a_inset.set_xlim(0,110)\n",
    "a_inset.set_ylim(2.2,10.4)\n",
    "\n",
    "# B\n",
    "sns.kdeplot(b10, fill=True, label='10', ax=axes[1], zorder=2)\n",
    "sns.kdeplot(b20, fill=True, label='20', ax=axes[1], zorder=2)\n",
    "sns.kdeplot(b40, fill=True, label='40', ax=axes[1], zorder=2)\n",
    "sns.kdeplot(b60, fill=True, label='60', ax=axes[1], zorder=2)\n",
    "sns.kdeplot(b80, fill=True, label='80', ax=axes[1], zorder=2)\n",
    "axes[1].axvline(0, alpha=0.6, linestyle='--', color='black')\n",
    "axes[1].set_title('(B)', loc='left', fontsize=14, y=1.01)\n",
    "axes[1].set_xlabel(r\"$\\delta_{i}$\", fontsize=14)\n",
    "axes[1].set_ylabel('Density', fontsize=14)\n",
    "axes[1].set_yticks([0,0.02,0.04,0.06])\n",
    "axes[1].set_xlim(-13,70)\n",
    "axes[1].legend(loc='upper center', \n",
    "               bbox_to_anchor=(0.5, -0.2), \n",
    "               title='Proportion(%)', \n",
    "               title_fontsize=14, \n",
    "               fontsize=12, \n",
    "               ncol=3, \n",
    "               frameon=False)\n",
    "# B Inset\n",
    "b_inset = axes[1].inset_axes([0.55, 0.55, 0.43, 0.425])\n",
    "b_inset.plot(b_in_x, b_in_y, color='#444444')\n",
    "b_inset.scatter(b_in_x, b_in_y, s=10, color='#444444')\n",
    "b_inset.set_xlabel(\"Proportion(%)\", fontsize=11)\n",
    "b_inset.set_ylabel(\"Median\", fontsize=11)\n",
    "b_inset.set_xticks([20,40,60,80])\n",
    "b_inset.set_yticks([6,7,8,9])\n",
    "b_inset.set_xlim(5,85)\n",
    "b_inset.set_ylim(5.8,9.2)\n",
    "\n",
    "for ax in [axes[0],axes[1],a_inset,b_inset]:\n",
    "    # grid\n",
    "    ax.grid(True, which='major', axis='both', linestyle='-', linewidth=0.7, color='lightgray', alpha=0.8, zorder=0)\n",
    "    # ax.grid(True, which='minor', axis='both', linestyle=':', linewidth=0.4, color='lightgray', alpha=0.5, zorder=0)\n",
    "    ax.minorticks_on() # Ensure minor ticks are on if you want minor gridlines\n",
    "    # borders\n",
    "    ax.spines['top'].set_visible(True)\n",
    "    ax.spines['right'].set_visible(True)\n",
    "    ax.spines['left'].set_visible(True)\n",
    "    ax.spines['bottom'].set_visible(True)\n",
    "    ax.spines['top'].set_color('black')\n",
    "    ax.spines['right'].set_color('black')\n",
    "    ax.spines['left'].set_color('black')\n",
    "    ax.spines['bottom'].set_color('black')\n",
    "    ax.spines['top'].set_linewidth(0.8)\n",
    "    ax.spines['right'].set_linewidth(0.8)\n",
    "    ax.spines['left'].set_linewidth(0.8)\n",
    "    ax.spines['bottom'].set_linewidth(0.8)\n",
    "    # ticks\n",
    "    ax.tick_params(axis='both', which='major', length=3, color='black')\n",
    "    ax.tick_params(axis='both', which='minor', length=0, color='black')\n",
    "\n",
    "for ax in [axes[0],axes[1]]:\n",
    "    # background\n",
    "    ax.set_facecolor('#F8FAFC')\n",
    "    fig.patch.set_facecolor('white') # A light gray\n",
    "    # Keep tick label font size\n",
    "    ax.tick_params(axis='x', labelsize=11)\n",
    "    ax.tick_params(axis='y', labelsize=11)\n",
    "\n",
    "# plt.tight_layout()\n",
    "plt.savefig(\"D:/Projects/BW Mathematics/Figure 4 New.jpg\", dpi=300, bbox_inches='tight')\n",
    "plt.show()"
   ]
  }
 ],
 "metadata": {
  "kernelspec": {
   "display_name": "Python 3 (ipykernel)",
   "language": "python",
   "name": "python3"
  },
  "language_info": {
   "codemirror_mode": {
    "name": "ipython",
    "version": 3
   },
   "file_extension": ".py",
   "mimetype": "text/x-python",
   "name": "python",
   "nbconvert_exporter": "python",
   "pygments_lexer": "ipython3",
   "version": "3.13.1"
  }
 },
 "nbformat": 4,
 "nbformat_minor": 5
}
