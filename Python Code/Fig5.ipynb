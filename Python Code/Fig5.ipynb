{
 "cells": [
  {
   "cell_type": "code",
   "execution_count": 2,
   "id": "629a4532-aa92-416a-8197-121c8fc58ae1",
   "metadata": {},
   "outputs": [],
   "source": [
    "import numpy as np\n",
    "import pandas as pd\n",
    "import seaborn as sns\n",
    "import matplotlib.pyplot as plt\n",
    "\n",
    "from IPython.core.interactiveshell import InteractiveShell\n",
    "InteractiveShell.ast_node_interactivity = \"all\" # enable multiple output in one cell"
   ]
  },
  {
   "cell_type": "code",
   "execution_count": 3,
   "id": "d57ebfb1-c186-44d2-9dc2-43f4af8bd423",
   "metadata": {},
   "outputs": [],
   "source": [
    "fig5_df = pd.read_csv(\"D:/Projects/BW Mathematics/fig5.csv\")\n",
    "\n",
    "a1 = fig5_df.loc[(fig5_df['Dim']==10)&(fig5_df['Method']=='AI Projection'),['Num','LogRuntime']]\n",
    "a2 = fig5_df.loc[(fig5_df['Dim']==10)&(fig5_df['Method']=='BW Projection'),['Num','LogRuntime']]\n",
    "a3 = fig5_df.loc[(fig5_df['Dim']==10)&(fig5_df['Method']=='AI Inductive'),['Num','LogRuntime']]\n",
    "a4 = fig5_df.loc[(fig5_df['Dim']==10)&(fig5_df['Method']=='BW Inductive'),['Num','LogRuntime']]\n",
    "a5 = fig5_df.loc[(fig5_df['Dim']==10)&(fig5_df['Method']=='AI Cheap'),['Num','LogRuntime']]\n",
    "a6 = fig5_df.loc[(fig5_df['Dim']==10)&(fig5_df['Method']=='BW Cheap'),['Num','LogRuntime']]\n",
    "\n",
    "b1 = fig5_df.loc[(fig5_df['Dim']==20)&(fig5_df['Method']=='AI Projection'),['Num','LogRuntime']]\n",
    "b2 = fig5_df.loc[(fig5_df['Dim']==20)&(fig5_df['Method']=='BW Projection'),['Num','LogRuntime']]\n",
    "b3 = fig5_df.loc[(fig5_df['Dim']==20)&(fig5_df['Method']=='AI Inductive'),['Num','LogRuntime']]\n",
    "b4 = fig5_df.loc[(fig5_df['Dim']==20)&(fig5_df['Method']=='BW Inductive'),['Num','LogRuntime']]\n",
    "b5 = fig5_df.loc[(fig5_df['Dim']==20)&(fig5_df['Method']=='AI Cheap'),['Num','LogRuntime']]\n",
    "b6 = fig5_df.loc[(fig5_df['Dim']==20)&(fig5_df['Method']=='BW Cheap'),['Num','LogRuntime']]\n",
    "\n",
    "c1 = fig5_df.loc[(fig5_df['Dim']==50)&(fig5_df['Method']=='AI Projection'),['Num','LogRuntime']]\n",
    "c2 = fig5_df.loc[(fig5_df['Dim']==50)&(fig5_df['Method']=='BW Projection'),['Num','LogRuntime']]\n",
    "c3 = fig5_df.loc[(fig5_df['Dim']==50)&(fig5_df['Method']=='AI Inductive'),['Num','LogRuntime']]\n",
    "c4 = fig5_df.loc[(fig5_df['Dim']==50)&(fig5_df['Method']=='BW Inductive'),['Num','LogRuntime']]\n",
    "c5 = fig5_df.loc[(fig5_df['Dim']==50)&(fig5_df['Method']=='AI Cheap'),['Num','LogRuntime']]\n",
    "c6 = fig5_df.loc[(fig5_df['Dim']==50)&(fig5_df['Method']=='BW Cheap'),['Num','LogRuntime']]\n",
    "\n",
    "d1 = fig5_df.loc[(fig5_df['Dim']==100)&(fig5_df['Method']=='AI Projection'),['Num','LogRuntime']]\n",
    "d2 = fig5_df.loc[(fig5_df['Dim']==100)&(fig5_df['Method']=='BW Projection'),['Num','LogRuntime']]\n",
    "d3 = fig5_df.loc[(fig5_df['Dim']==100)&(fig5_df['Method']=='AI Inductive'),['Num','LogRuntime']]\n",
    "d4 = fig5_df.loc[(fig5_df['Dim']==100)&(fig5_df['Method']=='BW Inductive'),['Num','LogRuntime']]\n",
    "d5 = fig5_df.loc[(fig5_df['Dim']==100)&(fig5_df['Method']=='AI Cheap'),['Num','LogRuntime']]\n",
    "d6 = fig5_df.loc[(fig5_df['Dim']==100)&(fig5_df['Method']=='BW Cheap'),['Num','LogRuntime']]"
   ]
  },
  {
   "cell_type": "code",
   "execution_count": 4,
   "id": "e5c5568a-612b-4622-9ead-a7ed8fcaf449",
   "metadata": {},
   "outputs": [
    {
     "data": {
      "text/plain": [
       "[<matplotlib.axis.XTick at 0x1fbffd99160>,\n",
       " <matplotlib.axis.XTick at 0x1fbffd9dbd0>,\n",
       " <matplotlib.axis.XTick at 0x1fbffe35950>]"
      ]
     },
     "execution_count": 4,
     "metadata": {},
     "output_type": "execute_result"
    },
    {
     "data": {
      "text/plain": [
       "[<matplotlib.axis.XTick at 0x1fbffdd4b90>,\n",
       " <matplotlib.axis.XTick at 0x1fbffdd4410>,\n",
       " <matplotlib.axis.XTick at 0x1fbffe36850>]"
      ]
     },
     "execution_count": 4,
     "metadata": {},
     "output_type": "execute_result"
    },
    {
     "data": {
      "text/plain": [
       "[<matplotlib.axis.XTick at 0x1fbffe04190>,\n",
       " <matplotlib.axis.XTick at 0x1fbffe37110>,\n",
       " <matplotlib.axis.XTick at 0x1fbffe37890>]"
      ]
     },
     "execution_count": 4,
     "metadata": {},
     "output_type": "execute_result"
    },
    {
     "data": {
      "text/plain": [
       "[<matplotlib.axis.XTick at 0x1fbffe07250>,\n",
       " <matplotlib.axis.XTick at 0x1fbffea8050>,\n",
       " <matplotlib.axis.XTick at 0x1fbffea87d0>]"
      ]
     },
     "execution_count": 4,
     "metadata": {},
     "output_type": "execute_result"
    },
    {
     "data": {
      "text/plain": [
       "[<matplotlib.lines.Line2D at 0x1fbffea8f50>]"
      ]
     },
     "execution_count": 4,
     "metadata": {},
     "output_type": "execute_result"
    },
    {
     "data": {
      "text/plain": [
       "[<matplotlib.lines.Line2D at 0x1fbffea9090>]"
      ]
     },
     "execution_count": 4,
     "metadata": {},
     "output_type": "execute_result"
    },
    {
     "data": {
      "text/plain": [
       "[<matplotlib.lines.Line2D at 0x1fbffea91d0>]"
      ]
     },
     "execution_count": 4,
     "metadata": {},
     "output_type": "execute_result"
    },
    {
     "data": {
      "text/plain": [
       "[<matplotlib.lines.Line2D at 0x1fbffea9310>]"
      ]
     },
     "execution_count": 4,
     "metadata": {},
     "output_type": "execute_result"
    },
    {
     "data": {
      "text/plain": [
       "[<matplotlib.lines.Line2D at 0x1fbffea9450>]"
      ]
     },
     "execution_count": 4,
     "metadata": {},
     "output_type": "execute_result"
    },
    {
     "data": {
      "text/plain": [
       "[<matplotlib.lines.Line2D at 0x1fbffd9d1d0>]"
      ]
     },
     "execution_count": 4,
     "metadata": {},
     "output_type": "execute_result"
    },
    {
     "data": {
      "text/plain": [
       "Text(0.5, 1.0, 'Dim = 10')"
      ]
     },
     "execution_count": 4,
     "metadata": {},
     "output_type": "execute_result"
    },
    {
     "data": {
      "text/plain": [
       "(-6.0, 9.0)"
      ]
     },
     "execution_count": 4,
     "metadata": {},
     "output_type": "execute_result"
    },
    {
     "data": {
      "text/plain": [
       "Text(0, 0.5, 'Log(Runetime)')"
      ]
     },
     "execution_count": 4,
     "metadata": {},
     "output_type": "execute_result"
    },
    {
     "data": {
      "text/plain": [
       "[<matplotlib.lines.Line2D at 0x1fbffd9d090>]"
      ]
     },
     "execution_count": 4,
     "metadata": {},
     "output_type": "execute_result"
    },
    {
     "data": {
      "text/plain": [
       "[<matplotlib.lines.Line2D at 0x1fbffea9590>]"
      ]
     },
     "execution_count": 4,
     "metadata": {},
     "output_type": "execute_result"
    },
    {
     "data": {
      "text/plain": [
       "[<matplotlib.lines.Line2D at 0x1fbffea96d0>]"
      ]
     },
     "execution_count": 4,
     "metadata": {},
     "output_type": "execute_result"
    },
    {
     "data": {
      "text/plain": [
       "[<matplotlib.lines.Line2D at 0x1fbffea9810>]"
      ]
     },
     "execution_count": 4,
     "metadata": {},
     "output_type": "execute_result"
    },
    {
     "data": {
      "text/plain": [
       "[<matplotlib.lines.Line2D at 0x1fbffea9950>]"
      ]
     },
     "execution_count": 4,
     "metadata": {},
     "output_type": "execute_result"
    },
    {
     "data": {
      "text/plain": [
       "[<matplotlib.lines.Line2D at 0x1fbffea9a90>]"
      ]
     },
     "execution_count": 4,
     "metadata": {},
     "output_type": "execute_result"
    },
    {
     "data": {
      "text/plain": [
       "Text(0.5, 1.0, 'Dim = 20')"
      ]
     },
     "execution_count": 4,
     "metadata": {},
     "output_type": "execute_result"
    },
    {
     "data": {
      "text/plain": [
       "(-6.0, 9.0)"
      ]
     },
     "execution_count": 4,
     "metadata": {},
     "output_type": "execute_result"
    },
    {
     "data": {
      "text/plain": [
       "Text(0, 0.5, '')"
      ]
     },
     "execution_count": 4,
     "metadata": {},
     "output_type": "execute_result"
    },
    {
     "data": {
      "text/plain": [
       "[<matplotlib.lines.Line2D at 0x1fbffea9bd0>]"
      ]
     },
     "execution_count": 4,
     "metadata": {},
     "output_type": "execute_result"
    },
    {
     "data": {
      "text/plain": [
       "[<matplotlib.lines.Line2D at 0x1fbffea9d10>]"
      ]
     },
     "execution_count": 4,
     "metadata": {},
     "output_type": "execute_result"
    },
    {
     "data": {
      "text/plain": [
       "[<matplotlib.lines.Line2D at 0x1fbffea9e50>]"
      ]
     },
     "execution_count": 4,
     "metadata": {},
     "output_type": "execute_result"
    },
    {
     "data": {
      "text/plain": [
       "[<matplotlib.lines.Line2D at 0x1fbffea9f90>]"
      ]
     },
     "execution_count": 4,
     "metadata": {},
     "output_type": "execute_result"
    },
    {
     "data": {
      "text/plain": [
       "[<matplotlib.lines.Line2D at 0x1fbffeaa0d0>]"
      ]
     },
     "execution_count": 4,
     "metadata": {},
     "output_type": "execute_result"
    },
    {
     "data": {
      "text/plain": [
       "[<matplotlib.lines.Line2D at 0x1fbffeaa210>]"
      ]
     },
     "execution_count": 4,
     "metadata": {},
     "output_type": "execute_result"
    },
    {
     "data": {
      "text/plain": [
       "Text(0.5, 1.0, 'Dim = 50')"
      ]
     },
     "execution_count": 4,
     "metadata": {},
     "output_type": "execute_result"
    },
    {
     "data": {
      "text/plain": [
       "(-6.0, 9.0)"
      ]
     },
     "execution_count": 4,
     "metadata": {},
     "output_type": "execute_result"
    },
    {
     "data": {
      "text/plain": [
       "Text(0, 0.5, '')"
      ]
     },
     "execution_count": 4,
     "metadata": {},
     "output_type": "execute_result"
    },
    {
     "data": {
      "text/plain": [
       "[<matplotlib.lines.Line2D at 0x1fbffeaa350>]"
      ]
     },
     "execution_count": 4,
     "metadata": {},
     "output_type": "execute_result"
    },
    {
     "data": {
      "text/plain": [
       "[<matplotlib.lines.Line2D at 0x1fbffeaa490>]"
      ]
     },
     "execution_count": 4,
     "metadata": {},
     "output_type": "execute_result"
    },
    {
     "data": {
      "text/plain": [
       "[<matplotlib.lines.Line2D at 0x1fbffeaa5d0>]"
      ]
     },
     "execution_count": 4,
     "metadata": {},
     "output_type": "execute_result"
    },
    {
     "data": {
      "text/plain": [
       "[<matplotlib.lines.Line2D at 0x1fbffeaa710>]"
      ]
     },
     "execution_count": 4,
     "metadata": {},
     "output_type": "execute_result"
    },
    {
     "data": {
      "text/plain": [
       "[<matplotlib.lines.Line2D at 0x1fbffeaa850>]"
      ]
     },
     "execution_count": 4,
     "metadata": {},
     "output_type": "execute_result"
    },
    {
     "data": {
      "text/plain": [
       "[<matplotlib.lines.Line2D at 0x1fbffeaa990>]"
      ]
     },
     "execution_count": 4,
     "metadata": {},
     "output_type": "execute_result"
    },
    {
     "data": {
      "text/plain": [
       "Text(0.5, 1.0, 'Dim = 100')"
      ]
     },
     "execution_count": 4,
     "metadata": {},
     "output_type": "execute_result"
    },
    {
     "data": {
      "text/plain": [
       "(-6.0, 9.0)"
      ]
     },
     "execution_count": 4,
     "metadata": {},
     "output_type": "execute_result"
    },
    {
     "data": {
      "text/plain": [
       "Text(0, 0.5, '')"
      ]
     },
     "execution_count": 4,
     "metadata": {},
     "output_type": "execute_result"
    },
    {
     "data": {
      "text/plain": [
       "Text(0.5, 0.01, 'Number of Matrices')"
      ]
     },
     "execution_count": 4,
     "metadata": {},
     "output_type": "execute_result"
    },
    {
     "data": {
      "text/plain": [
       "<matplotlib.legend.Legend at 0x1fbffd997f0>"
      ]
     },
     "execution_count": 4,
     "metadata": {},
     "output_type": "execute_result"
    },
    {
     "data": {
      "image/png": "[encoded data removed]",
      "text/plain": [
       "<Figure size 900x300 with 4 Axes>"
      ]
     },
     "metadata": {},
     "output_type": "display_data"
    }
   ],
   "source": [
    "fig, axes = plt.subplots(1, 4, figsize=(9, 3))\n",
    "\n",
    "# Set theme\n",
    "for ax in axes:\n",
    "    # background\n",
    "    ax.set_facecolor('#F8FAFC')\n",
    "    fig.patch.set_facecolor('white') # A light gray\n",
    "    # grid\n",
    "    ax.grid(True, which='major', axis='both', linestyle='-', linewidth=0.7, color='lightgray', alpha=0.8, zorder=0)\n",
    "    # ax.grid(True, which='minor', axis='both', linestyle=':', linewidth=0.4, color='lightgray', alpha=0.5, zorder=0)\n",
    "    ax.minorticks_on() # Ensure minor ticks are on if you want minor gridlines\n",
    "    # borders\n",
    "    ax.spines['top'].set_visible(True)\n",
    "    ax.spines['right'].set_visible(True)\n",
    "    ax.spines['left'].set_visible(True)\n",
    "    ax.spines['bottom'].set_visible(True)\n",
    "    ax.spines['top'].set_color('black')\n",
    "    ax.spines['right'].set_color('black')\n",
    "    ax.spines['left'].set_color('black')\n",
    "    ax.spines['bottom'].set_color('black')\n",
    "    ax.spines['top'].set_linewidth(0.8)\n",
    "    ax.spines['right'].set_linewidth(0.8)\n",
    "    ax.spines['left'].set_linewidth(0.8)\n",
    "    ax.spines['bottom'].set_linewidth(0.8)\n",
    "    # ticks\n",
    "    ax.tick_params(axis='both', which='major', length=3, color='black')\n",
    "    ax.tick_params(axis='both', which='minor', length=0, color='black')\n",
    "    # Keep tick label font size\n",
    "    ax.tick_params(axis='x', labelsize=11)\n",
    "    ax.tick_params(axis='y', labelsize=11)\n",
    "    ax.set_xticks([5, 100, 200])\n",
    "\n",
    "axes[0].plot(a1['Num'], a1['LogRuntime'], label='AI Projection', color='#d62728', linestyle='-', zorder=2)\n",
    "axes[0].plot(a2['Num'], a2['LogRuntime'], label='BW Projection', color='#d62728', linestyle='--', zorder=2)\n",
    "axes[0].plot(a3['Num'], a3['LogRuntime'], label='AI Inductive', color='steelblue', linestyle='-', zorder=2)\n",
    "axes[0].plot(a4['Num'], a4['LogRuntime'], label='BW Inductive', color='steelblue', linestyle='--', zorder=2)\n",
    "axes[0].plot(a5['Num'], a5['LogRuntime'], label='AI Cheap', color='orange', linestyle='-', zorder=2)\n",
    "axes[0].plot(a6['Num'], a6['LogRuntime'], label='BW Cheap', color='orange', linestyle='--', zorder=2)\n",
    "axes[0].set_title('Dim = 10', fontsize=14)\n",
    "axes[0].set_ylim(-6,9)\n",
    "axes[0].set_ylabel('Log(Runetime)', fontsize=14)\n",
    "\n",
    "axes[1].plot(b1['Num'], b1['LogRuntime'], label='AI Projection', color='#d62728', linestyle='-', zorder=2)\n",
    "axes[1].plot(b2['Num'], b2['LogRuntime'], label='BW Projection', color='#d62728', linestyle='--', zorder=2)\n",
    "axes[1].plot(b3['Num'], b3['LogRuntime'], label='AI Inductive', color='steelblue', linestyle='-', zorder=2)\n",
    "axes[1].plot(b4['Num'], b4['LogRuntime'], label='BW Inductive', color='steelblue', linestyle='--', zorder=2)\n",
    "axes[1].plot(b5['Num'], b5['LogRuntime'], label='AI Cheap', color='orange', linestyle='-', zorder=2)\n",
    "axes[1].plot(b6['Num'], b6['LogRuntime'], label='BW Cheap', color='orange', linestyle='--', zorder=2)\n",
    "axes[1].set_title('Dim = 20', fontsize=14)\n",
    "axes[1].set_ylim(-6,9)\n",
    "axes[1].set_ylabel('')\n",
    "\n",
    "axes[2].plot(c1['Num'], c1['LogRuntime'], label='AI Projection', color='#d62728', linestyle='-', zorder=2)\n",
    "axes[2].plot(c2['Num'], c2['LogRuntime'], label='BW Projection', color='#d62728', linestyle='--', zorder=2)\n",
    "axes[2].plot(c3['Num'], c3['LogRuntime'], label='AI Inductive', color='steelblue', linestyle='-', zorder=2)\n",
    "axes[2].plot(c4['Num'], c4['LogRuntime'], label='BW Inductive', color='steelblue', linestyle='--', zorder=2)\n",
    "axes[2].plot(c5['Num'], c5['LogRuntime'], label='AI Cheap', color='orange', linestyle='-', zorder=2)\n",
    "axes[2].plot(c6['Num'], c6['LogRuntime'], label='BW Cheap', color='orange', linestyle='--', zorder=2)\n",
    "axes[2].set_title('Dim = 50', fontsize=14)\n",
    "axes[2].set_ylim(-6,9)\n",
    "axes[2].set_ylabel('')\n",
    "\n",
    "axes[3].plot(d1['Num'], d1['LogRuntime'], label='AI Projection', color='#d62728', linestyle='-', zorder=2)\n",
    "axes[3].plot(d2['Num'], d2['LogRuntime'], label='BW Projection', color='#d62728', linestyle='--', zorder=2)\n",
    "axes[3].plot(d3['Num'], d3['LogRuntime'], label='AI Inductive', color='steelblue', linestyle='-', zorder=2)\n",
    "axes[3].plot(d4['Num'], d4['LogRuntime'], label='BW Inductive', color='steelblue', linestyle='--', zorder=2)\n",
    "axes[3].plot(d5['Num'], d5['LogRuntime'], label='AI Cheap', color='orange', linestyle='-', zorder=2)\n",
    "axes[3].plot(d6['Num'], d6['LogRuntime'], label='BW Cheap', color='orange', linestyle='--', zorder=2)\n",
    "axes[3].set_title('Dim = 100', fontsize=14)\n",
    "axes[3].set_ylim(-6,9)\n",
    "axes[3].set_ylabel('')\n",
    "\n",
    "fig.supxlabel('Number of Matrices', fontsize=14)\n",
    "\n",
    "handles, labels = axes[0].get_legend_handles_labels()\n",
    "fig.legend(handles, labels, \n",
    "           loc='upper center', \n",
    "           bbox_to_anchor=(0.5, 0), \n",
    "           fontsize=11, \n",
    "           # title_fontsize=14,\n",
    "           ncol=len(labels)/2,\n",
    "           frameon=False, # Display legend box frame\n",
    "           facecolor='white', # Match subplot background\n",
    "           edgecolor='black', # Match spine color\n",
    "           fancybox=False # Straight edges for theme_bw feel\n",
    "          )\n",
    "\n",
    "plt.tight_layout(rect=[0, -0.05, 1, 1], w_pad=0.1)\n",
    "plt.savefig(\"D:/Projects/BW Mathematics/Figure 5 New.jpg\", dpi=300, bbox_inches='tight')\n",
    "plt.show()"
   ]
  },
  {
   "cell_type": "code",
   "execution_count": null,
   "id": "54c5dd14-bd99-4ef9-a655-72ff0a2eeab8",
   "metadata": {},
   "outputs": [],
   "source": []
  }
 ],
 "metadata": {
  "kernelspec": {
   "display_name": "Python 3 (ipykernel)",
   "language": "python",
   "name": "python3"
  },
  "language_info": {
   "codemirror_mode": {
    "name": "ipython",
    "version": 3
   },
   "file_extension": ".py",
   "mimetype": "text/x-python",
   "name": "python",
   "nbconvert_exporter": "python",
   "pygments_lexer": "ipython3",
   "version": "3.13.1"
  }
 },
 "nbformat": 4,
 "nbformat_minor": 5
}
